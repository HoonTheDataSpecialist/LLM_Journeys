{
 "cells": [
  {
   "cell_type": "markdown",
   "id": "9783ae54",
   "metadata": {},
   "source": [
    "## 📜 Module Descriptions\n",
    "\n",
    "### `from openai import OpenAI`\n",
    "- Imports the `OpenAI` class from the **OpenAI Python library**.\n",
    "- Used to interact with OpenAI services such as ChatGPT, DALL·E, and other models.\n",
    "\n",
    "### `from dotenv import load_dotenv`\n",
    "- Imports the `load_dotenv` function from the **python-dotenv** package.\n",
    "- Loads environment variables from a `.env` file into the application.\n",
    "- Commonly used to securely load sensitive information like API keys.\n",
    "\n",
    "### `import os`\n",
    "- Imports the built-in Python **os** module.\n",
    "- Provides access to environment variables (`os.environ`) and other operating system functionality.\n"
   ]
  },
  {
   "cell_type": "code",
   "execution_count": 1,
   "id": "fbdb2c67",
   "metadata": {},
   "outputs": [],
   "source": [
    "from openai import OpenAI\n",
    "from dotenv import load_dotenv\n",
    "import os"
   ]
  },
  {
   "cell_type": "code",
   "execution_count": 2,
   "id": "ebe0a66c",
   "metadata": {},
   "outputs": [],
   "source": [
    "load_dotenv('.env')\n",
    "client = OpenAI(\n",
    "  api_key=os.environ['OPENAI_API_KEY'],  # this is also the default, it can be omitted\n",
    ")"
   ]
  },
  {
   "cell_type": "markdown",
   "id": "d86a0008",
   "metadata": {},
   "source": [
    "### `chat()` function\n",
    "\n",
    "The `chat()` function sends a user's input along with the conversation history to the OpenAI Chat API (`gpt-3.5-turbo`) and receives a response. It updates the message history with both the user's input and the assistant's reply, then returns the reply and the updated history. This allows for maintaining a continuous conversation context."
   ]
  },
  {
   "cell_type": "code",
   "execution_count": 3,
   "id": "3dbd586a",
   "metadata": {},
   "outputs": [],
   "source": [
    "def chat(inp, message_history, role = \"user\"):\n",
    "    message_history.append({'role':role,\"content\":inp})\n",
    "\n",
    "    completion = client.chat.completions.create(\n",
    "        model=\"gpt-3.5-turbo\",\n",
    "        messages=message_history\n",
    "    )\n",
    "\n",
    "    reply_content = completion.choices[0].message.content\n",
    "    message_history.append({'role':'assistant','content':reply_content})\n",
    "    return reply_content, message_history\n",
    "\n"
   ]
  },
  {
   "cell_type": "markdown",
   "id": "3141da55",
   "metadata": {},
   "source": [
    "### Interactive Story Game Script\n",
    "\n",
    "This script creates an interactive story game using the OpenAI Chat API. It initializes a message history and runs a loop where the user inputs their choices, and the bot generates the next part of the story along with new options."
   ]
  },
  {
   "cell_type": "code",
   "execution_count": 4,
   "id": "df6f6568",
   "metadata": {},
   "outputs": [
    {
     "name": "stdout",
     "output_type": "stream",
     "text": [
      "You find yourself standing in a mystical forest surrounded by towering trees that seem to whisper ancient secrets. Suddenly, a fairy appears before you, her wings sparkling in the dappled sunlight. She offers you a choice:\n",
      "\n",
      "Option 1: Follow her deeper into the forest.\n",
      "Option 2: Politely decline and continue on your current path.\n",
      "Option 3: Ask the fairy for a magical gift.\n",
      "Option 4: Try to catch the fairy and capture her.\n",
      "As you decide to follow the fairy deeper into the forest, she leads you down a winding path lined with glowing mushrooms. The air is filled with the sweet scent of wildflowers, and you can hear the gentle hum of unseen creatures. Eventually, you arrive at a shimmering pond where the fairy invites you to make a wish.\n",
      "\n",
      "Option 1: Wish for wealth and prosperity.\n",
      "Option 2: Wish for love and happiness.\n",
      "Option 3: Wish for wisdom and knowledge.\n",
      "Option 4: Choose not to make a wish and thank the fairy for her guidance.\n",
      "You close your eyes and make a wish for wisdom and knowledge. As you open your eyes, the fairy smiles approvingly and dips a delicate finger into the pond. Ripples spread across the water, and suddenly, a book materializes in her hand. She presents it to you, saying it holds all the knowledge of the world.\n",
      "\n",
      "Option 1: Accept the book and delve into its secrets.\n",
      "Option 2: Politely decline, feeling overwhelmed by the responsibility of such vast knowledge.\n",
      "Option 3: Ask the fairy how you can use the book to help others.\n",
      "Option 4: Attempt to snatch the book and claim its power for yourself.\n"
     ]
    }
   ],
   "source": [
    "# Initialize the message history\n",
    "message_history = [\n",
    "    {\"role\": \"user\", \"content\": \"\"\"You are an interactive story game bot that proposes some hypothetical fantastical situation where the user needs to pick from 2-4 options that you provide. Once the user picks one of those options, you will then state what happens next and present new options, and this then repeats. If you understand, say, OK, and begin when I say \"begin.\" When you present the story and options, present just the story and start immediately with the story, no further commentary, and then options like \"Option 1:\" \"Option 2:\" ...etc.\"\"\"},\n",
    "    {\"role\": \"assistant\", \"content\": f\"\"\"OK, I understand. Begin when you're ready.\"\"\"}]\n",
    "\n",
    "reply_content, message_history = chat(\"begin\", message_history)\n",
    "\n",
    "for _ in range(3):\n",
    "    print(reply_content)\n",
    "    next_inp = input(\"Enter your response: \")\n",
    "    reply_content, message_history = chat(reply_content, message_history)"
   ]
  },
  {
   "cell_type": "code",
   "execution_count": 7,
   "id": "1e100b58",
   "metadata": {},
   "outputs": [
    {
     "name": "stdout",
     "output_type": "stream",
     "text": [
      "As you accept the book from the fairy, a wave of knowledge washes over you, filling your mind with ancient wisdom and untold secrets. You feel a deep connection to the world around you and a sense of purpose. The fairy smiles warmly before disappearing in a shower of glittering light.\n",
      "\n",
      "Congratulations, you are now the keeper of the Book of Knowledge, a sacred responsibility that will shape your destiny and guide your journey.\n",
      "\n",
      "The End.\n"
     ]
    }
   ],
   "source": [
    "print(message_history[-1]['content'])"
   ]
  },
  {
   "cell_type": "code",
   "execution_count": null,
   "id": "105ff1ae",
   "metadata": {},
   "outputs": [],
   "source": []
  }
 ],
 "metadata": {
  "kernelspec": {
   "display_name": "gptJourney",
   "language": "python",
   "name": "python3"
  },
  "language_info": {
   "codemirror_mode": {
    "name": "ipython",
    "version": 3
   },
   "file_extension": ".py",
   "mimetype": "text/x-python",
   "name": "python",
   "nbconvert_exporter": "python",
   "pygments_lexer": "ipython3",
   "version": "3.13.5"
  }
 },
 "nbformat": 4,
 "nbformat_minor": 5
}
